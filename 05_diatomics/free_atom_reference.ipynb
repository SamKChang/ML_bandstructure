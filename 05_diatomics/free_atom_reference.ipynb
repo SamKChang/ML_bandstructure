{
 "cells": [
  {
   "cell_type": "code",
   "execution_count": 1,
   "metadata": {},
   "outputs": [
    {
     "name": "stderr",
     "output_type": "stream",
     "text": [
      "/home/samio/local/miniconda2/lib/python2.7/site-packages/h5py/__init__.py:36: FutureWarning: Conversion of the second argument of issubdtype from `float` to `np.floating` is deprecated. In future, it will be treated as `np.float64 == np.dtype(float).type`.\n",
      "  from ._conv import register_converters as _register_converters\n"
     ]
    }
   ],
   "source": [
    "import qctoolkit as qtk\n",
    "import numpy as np\n",
    "import itertools"
   ]
  },
  {
   "cell_type": "code",
   "execution_count": 4,
   "metadata": {
    "collapsed": true
   },
   "outputs": [],
   "source": [
    "with open('gbasis_ano_H-Xe.txt') as f:\n",
    "    ano = f.readlines()\n",
    "\n",
    "qmsetting = dict(\n",
    "    program='gaussian',\n",
    "    theory='ccsd(t)',\n",
    ")\n",
    "\n",
    "basis, bname = ['Def2-QZVPP', 'def2q']"
   ]
  },
  {
   "cell_type": "code",
   "execution_count": 6,
   "metadata": {},
   "outputs": [],
   "source": [
    "Z_range = range(1, 55)\n",
    "inps = []\n",
    "\n",
    "for Z in Z_range:\n",
    "    m = 1 if Z % 2 == 0 else 2\n",
    "    for duplet in [0, 2]:\n",
    "        mol = qtk.Molecule()\n",
    "        mol.build([[Z, 0, 0, 0]])\n",
    "        mol.setChargeMultiplicity(0, m + duplet)\n",
    "        mol.name = '%02d_%s_m%d' % (mol.Z[0], mol.name, m + duplet)\n",
    "        inp = qtk.QMInp(mol, basis_set=basis, **qmsetting)\n",
    "        inps.append(inp)"
   ]
  },
  {
   "cell_type": "code",
   "execution_count": 8,
   "metadata": {},
   "outputs": [
    {
     "name": "stdout",
     "output_type": "stream",
     "text": [
      "\u001b[96m\u001b[1mqmWriteAll:\u001b[0m compression completed \n"
     ]
    }
   ],
   "source": [
    "qtk.qmWriteAll(inps, 'freeAtom_ref', compress=True)"
   ]
  },
  {
   "cell_type": "code",
   "execution_count": null,
   "metadata": {
    "collapsed": true
   },
   "outputs": [],
   "source": []
  }
 ],
 "metadata": {
  "kernelspec": {
   "display_name": "Python 2",
   "language": "python",
   "name": "python2"
  },
  "language_info": {
   "codemirror_mode": {
    "name": "ipython",
    "version": 2
   },
   "file_extension": ".py",
   "mimetype": "text/x-python",
   "name": "python",
   "nbconvert_exporter": "python",
   "pygments_lexer": "ipython2",
   "version": "2.7.14"
  }
 },
 "nbformat": 4,
 "nbformat_minor": 2
}
