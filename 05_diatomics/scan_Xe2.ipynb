{
 "cells": [
  {
   "cell_type": "code",
   "execution_count": 1,
   "metadata": {},
   "outputs": [
    {
     "name": "stderr",
     "output_type": "stream",
     "text": [
      "/home/samio/local/miniconda2/lib/python2.7/site-packages/h5py/__init__.py:36: FutureWarning: Conversion of the second argument of issubdtype from `float` to `np.floating` is deprecated. In future, it will be treated as `np.float64 == np.dtype(float).type`.\n",
      "  from ._conv import register_converters as _register_converters\n"
     ]
    }
   ],
   "source": [
    "import qctoolkit as qtk\n",
    "import numpy as np\n",
    "import itertools"
   ]
  },
  {
   "cell_type": "markdown",
   "metadata": {},
   "source": [
    "# Test Gaussian basis set compactibility"
   ]
  },
  {
   "cell_type": "code",
   "execution_count": 2,
   "metadata": {
    "collapsed": true
   },
   "outputs": [],
   "source": [
    "with open('gbasis_ano_H-Xe.txt') as f:\n",
    "    ano = f.readlines()\n",
    "\n",
    "qmsetting = dict(\n",
    "    program='gaussian',\n",
    "    theory='ccsd(t)',\n",
    ")\n",
    "\n",
    "basis_list = [['Def2-TZVPP', 'def2t'], ['Def2-QZVPP', 'def2q'], [ano, 'ano']]\n",
    "\n",
    "inps_grp = []\n",
    "for basis, bname in basis_list:\n",
    "    inps = []\n",
    "    inps_grp.append(inps)\n",
    "    for mol_str in ['FF', 'ClCl', 'BrBr', 'II']:\n",
    "        mol = qtk.Molecule(mol_str)\n",
    "        mol.name = '%02d%02d_%s_%s' % (mol.Z[0], mol.Z[1], mol.name, bname)\n",
    "        inp = qtk.QMInp(mol, basis_set=basis, **qmsetting)\n",
    "        inps.append(inp)"
   ]
  },
  {
   "cell_type": "code",
   "execution_count": 3,
   "metadata": {
    "collapsed": true
   },
   "outputs": [],
   "source": [
    "inps_halogen = list(qtk.flatten(inps_grp))"
   ]
  },
  {
   "cell_type": "code",
   "execution_count": 4,
   "metadata": {
    "collapsed": true
   },
   "outputs": [],
   "source": [
    "qtk.qmWriteAll(inps_halogen, 'halogenTest', overwrite=True, file_per_folder=2000)"
   ]
  },
  {
   "cell_type": "markdown",
   "metadata": {},
   "source": [
    "# Scan diatomics"
   ]
  },
  {
   "cell_type": "code",
   "execution_count": 5,
   "metadata": {
    "collapsed": true
   },
   "outputs": [],
   "source": [
    "Z_range = range(1, 55)\n",
    "Z_list = [[Z, Z] for Z in Z_range] + list(itertools.combinations(Z_range, 2))\n",
    "# rdkit smiles is not working for exotic molecules\n",
    "#smiles_list = map(lambda x: str(qtk.Z2n(x[0])) + str(qtk.Z2n(x[1])), Z_list)"
   ]
  },
  {
   "cell_type": "code",
   "execution_count": 6,
   "metadata": {
    "collapsed": true
   },
   "outputs": [],
   "source": [
    "inps_grp = []\n",
    "for basis, bname in basis_list[:2]:\n",
    "    inps = []\n",
    "    inps_grp.append(inps)\n",
    "    for Z1, Z2 in Z_list:\n",
    "        R1 = qtk.element[Z1].atmrad\n",
    "        R2 = qtk.element[Z2].atmrad\n",
    "        R = (R1 + R2) / 2\n",
    "        for R_factor in np.linspace(0.6, 3.0, 10, endpoint=True):\n",
    "            d = R_factor * R\n",
    "            f_str = ('%0.2f' % R_factor).replace('.', 'p')\n",
    "            m = 1 if (Z1 + Z2) % 2 == 0 else 2\n",
    "            for duplet in [0, 2]:\n",
    "                mol = qtk.Molecule()\n",
    "                mol.build([[Z1, d, 0, 0], [Z2, 0, 0, 0]])\n",
    "                mol.setChargeMultiplicity(0, m + duplet)\n",
    "                mol.name = '%02d%02d_%s_d%s_m%d' % (mol.Z[0], mol.Z[1], mol.name, f_str, m + duplet)\n",
    "                inp = qtk.QMInp(mol, basis_set=basis, **qmsetting)\n",
    "                inps.append(inp)"
   ]
  },
  {
   "cell_type": "code",
   "execution_count": 9,
   "metadata": {},
   "outputs": [
    {
     "name": "stdout",
     "output_type": "stream",
     "text": [
      "\u001b[93moverwrite existing folder Xe2Scan_def2t\u001b[0m\n",
      "\u001b[96m\u001b[1mqmWriteAll:\u001b[0m compression completed \n",
      "\u001b[93moverwrite existing folder Xe2Scan_def2q\u001b[0m\n",
      "\u001b[96m\u001b[1mqmWriteAll:\u001b[0m compression completed \n"
     ]
    }
   ],
   "source": [
    "for i, (basis, bname) in enumerate(basis_list[:2]):\n",
    "    inps = inps_grp[i]\n",
    "    qtk.qmWriteAll(inps, 'Xe2Scan_%s' % bname, overwrite=True, file_per_folder=500, compress=True)"
   ]
  },
  {
   "cell_type": "code",
   "execution_count": null,
   "metadata": {
    "collapsed": true
   },
   "outputs": [],
   "source": []
  }
 ],
 "metadata": {
  "kernelspec": {
   "display_name": "Python 2",
   "language": "python",
   "name": "python2"
  },
  "language_info": {
   "codemirror_mode": {
    "name": "ipython",
    "version": 2
   },
   "file_extension": ".py",
   "mimetype": "text/x-python",
   "name": "python",
   "nbconvert_exporter": "python",
   "pygments_lexer": "ipython2",
   "version": "2.7.14"
  }
 },
 "nbformat": 4,
 "nbformat_minor": 2
}
